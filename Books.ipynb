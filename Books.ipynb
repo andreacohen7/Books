{
 "cells": [
  {
   "cell_type": "markdown",
   "id": "255e0f0d",
   "metadata": {},
   "source": [
    "# Books\n",
    "- Andrea Cohen\n",
    "- 02.23.23"
   ]
  },
  {
   "cell_type": "markdown",
   "id": "aa466458",
   "metadata": {},
   "source": [
    "## Tasks:\n",
    "\n",
    "1.  Design an ERD to represent a database that tracks users and their favorite books.\n",
    "2.  Create the database in Python and test the database\n",
    "3.  Export the database and commit it to GitHub"
   ]
  },
  {
   "cell_type": "code",
   "execution_count": null,
   "id": "098a46e6",
   "metadata": {},
   "outputs": [],
   "source": []
  }
 ],
 "metadata": {
  "kernelspec": {
   "display_name": "Python (dojo-env)",
   "language": "python",
   "name": "dojo-env"
  },
  "language_info": {
   "codemirror_mode": {
    "name": "ipython",
    "version": 3
   },
   "file_extension": ".py",
   "mimetype": "text/x-python",
   "name": "python",
   "nbconvert_exporter": "python",
   "pygments_lexer": "ipython3",
   "version": "3.9.15"
  },
  "toc": {
   "base_numbering": 1,
   "nav_menu": {},
   "number_sections": false,
   "sideBar": true,
   "skip_h1_title": false,
   "title_cell": "Table of Contents",
   "title_sidebar": "Contents",
   "toc_cell": false,
   "toc_position": {},
   "toc_section_display": true,
   "toc_window_display": false
  }
 },
 "nbformat": 4,
 "nbformat_minor": 5
}
