{
 "cells": [
  {
   "cell_type": "markdown",
   "id": "f6618fee",
   "metadata": {},
   "source": [
    "# Books\n",
    "- Andrea Cohen\n",
    "- 02.23.23"
   ]
  },
  {
   "cell_type": "markdown",
   "id": "14be922c",
   "metadata": {},
   "source": [
    "## Tasks:\n",
    "\n",
    "1.  Design an ERD to represent a database that tracks users and their favorite books.\n",
    "2.  Create the database in Python and test the database\n",
    "3.  Export the database and commit it to GitHub"
   ]
  },
  {
   "cell_type": "markdown",
   "id": "21c56b45",
   "metadata": {},
   "source": [
    "## ERD\n",
    "\n",
    "![png](books_ERD.png)"
   ]
  },
  {
   "cell_type": "code",
   "execution_count": null,
   "id": "4a48ee4b",
   "metadata": {},
   "outputs": [],
   "source": []
  }
 ],
 "metadata": {
  "kernelspec": {
   "display_name": "Python (dojo-env)",
   "language": "python",
   "name": "dojo-env"
  },
  "language_info": {
   "codemirror_mode": {
    "name": "ipython",
    "version": 3
   },
   "file_extension": ".py",
   "mimetype": "text/x-python",
   "name": "python",
   "nbconvert_exporter": "python",
   "pygments_lexer": "ipython3",
   "version": "3.9.15"
  },
  "toc": {
   "base_numbering": 1,
   "nav_menu": {},
   "number_sections": false,
   "sideBar": true,
   "skip_h1_title": false,
   "title_cell": "Table of Contents",
   "title_sidebar": "Contents",
   "toc_cell": false,
   "toc_position": {},
   "toc_section_display": true,
   "toc_window_display": false
  }
 },
 "nbformat": 4,
 "nbformat_minor": 5
}
